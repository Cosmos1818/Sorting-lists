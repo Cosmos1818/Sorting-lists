{
  "nbformat": 4,
  "nbformat_minor": 0,
  "metadata": {
    "colab": {
      "name": "Untitled1.ipynb",
      "provenance": []
    },
    "kernelspec": {
      "name": "python3",
      "display_name": "Python 3"
    },
    "language_info": {
      "name": "python"
    }
  },
  "cells": [
    {
      "cell_type": "code",
      "execution_count": null,
      "metadata": {
        "id": "lZQ3E2kKj5ln"
      },
      "outputs": [],
      "source": [
        "# Find the smallest number in the list\n",
        "\n",
        "a = [23, 12, 53, 62, 23]\n",
        "\n",
        "smallest = 100000\n",
        "\n",
        "for x in a:\n",
        "  print(x)\n",
        "  if x < smallest:  # 12 < 23\n",
        "    smallest = x  # smallest = 12\n",
        "  print(\"smallest so far\",smallest)\n",
        "\n",
        "print(\"smallest num from the list is \",smallest)\n",
        "\n",
        "\n",
        "a = [56,67,75,456,100,2]\n",
        "\n",
        "a.sort()\n",
        "print(a)\n",
        "\n",
        "print(a[0])\n",
        "print(a[-1])\n"
      ]
    },
    {
      "cell_type": "code",
      "source": [
        ""
      ],
      "metadata": {
        "id": "XPU64M7Tj6rC"
      },
      "execution_count": null,
      "outputs": []
    }
  ]
}